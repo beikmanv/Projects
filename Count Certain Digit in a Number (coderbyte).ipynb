{
 "cells": [
  {
   "cell_type": "markdown",
   "id": "ecf7dc1e-64de-44a4-bf27-a7d1f3ce92d1",
   "metadata": {},
   "source": [
    "# Task:\n",
    "\n",
    "Write a program to print the Occurrence of a Digit in a given Number in Python.\n",
    "\n",
    "# Solution:"
   ]
  },
  {
   "cell_type": "code",
   "execution_count": null,
   "id": "6d8226d2-97a9-4704-8a05-bbf3d50fa537",
   "metadata": {},
   "outputs": [],
   "source": [
    "Number = \"283479131515574857242454150695950829533116861727855889075098381754637464939319255060400927701671139009848824012858361603563707660104710181942955596198946767837449448255379774726847104047534646208046684259069491293313677028989152104752162056966024058038150193511253382430035587640247496473263914199272604269922796\"\n",
    "Digit = 4\n",
    "\n",
    "#initialize Strings\n",
    "String1 = str()\n",
    "String2 = str()\n",
    "\n",
    "#typecast int to str\n",
    "String1 = str(Number)\n",
    "String2 = str(Digit)\n",
    "\n",
    "#count and print the occurrence\n",
    "#Count function will return int value \n",
    "#so change it's type to string and concatenate it\n",
    "print(String1.count(String2))"
   ]
  }
 ],
 "metadata": {
  "kernelspec": {
   "display_name": "Python 3 (ipykernel)",
   "language": "python",
   "name": "python3"
  },
  "language_info": {
   "codemirror_mode": {
    "name": "ipython",
    "version": 3
   },
   "file_extension": ".py",
   "mimetype": "text/x-python",
   "name": "python",
   "nbconvert_exporter": "python",
   "pygments_lexer": "ipython3",
   "version": "3.11.3"
  }
 },
 "nbformat": 4,
 "nbformat_minor": 5
}
