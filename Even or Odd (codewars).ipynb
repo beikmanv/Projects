{
 "cells": [
  {
   "cell_type": "markdown",
   "id": "c6d69574-430e-436d-8fcf-64ccb845fdbe",
   "metadata": {},
   "source": [
    "# Task:\n",
    "\n",
    "Create a function that takes an integer as an argument and returns \"Even\" for even numbers or \"Odd\" for odd numbers.\n",
    "\n",
    "# Solution:"
   ]
  },
  {
   "cell_type": "code",
   "execution_count": 1,
   "id": "582f763e-4f4d-4508-993a-83108a13bbaa",
   "metadata": {
    "tags": []
   },
   "outputs": [],
   "source": [
    "def even_or_odd(number):\n",
    "    if number % 2 == 0:\n",
    "        return \"Even\"\n",
    "    else:\n",
    "        return \"Odd\""
   ]
  },
  {
   "cell_type": "code",
   "execution_count": null,
   "id": "f3adab48-d68b-437b-a5ac-87a14cb4b735",
   "metadata": {},
   "outputs": [],
   "source": []
  }
 ],
 "metadata": {
  "kernelspec": {
   "display_name": "Python 3 (ipykernel)",
   "language": "python",
   "name": "python3"
  },
  "language_info": {
   "codemirror_mode": {
    "name": "ipython",
    "version": 3
   },
   "file_extension": ".py",
   "mimetype": "text/x-python",
   "name": "python",
   "nbconvert_exporter": "python",
   "pygments_lexer": "ipython3",
   "version": "3.11.3"
  }
 },
 "nbformat": 4,
 "nbformat_minor": 5
}
