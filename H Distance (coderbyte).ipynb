{
 "cells": [
  {
   "cell_type": "markdown",
   "id": "d87b8810-8568-46e0-a634-984863fe402b",
   "metadata": {
    "tags": []
   },
   "source": [
    "# Task:\n",
    "\n",
    "__H Distance__\n",
    "\n",
    "Have the function HDistance(strArr) take the array of strings stored in strArr, which will only contain two strings of equal length and return the number of characters at each position that are different between them. For example: if strArr is [“house”, “hours”] then your program should return 2. The string will always be of equal length and will only contain lowercase characters from the alphabet and numbers.\n",
    "\n",
    "Examples\n",
    "\n",
    "Input: [“10011”, “10100”]\n",
    "Output: 3\n",
    "\n",
    "Input: [“abcdef”, “defabc”]\n",
    "Output: 6\n",
    "\n",
    "# Solution:"
   ]
  },
  {
   "cell_type": "code",
   "execution_count": 1,
   "id": "521e7772-2e5d-49f9-b146-3baf32392739",
   "metadata": {
    "tags": []
   },
   "outputs": [
    {
     "name": "stdout",
     "output_type": "stream",
     "text": [
      "3\n",
      "6\n",
      "2\n"
     ]
    }
   ],
   "source": [
    "def HDistance(strArr):\n",
    "    length = min(len(strArr[0]), len(strArr[1]))\n",
    "    h = 0\n",
    "    for j in range(length):\n",
    "        if (strArr[0][j] != strArr[1][j]):\n",
    "            h += 1\n",
    "    return h\n",
    "\n",
    "print(HDistance([\"10011\", \"10100\"]))\n",
    "print(HDistance([\"abcdef\", \"defabc\"]))\n",
    "print(HDistance([\"house\", \"hours\"]))"
   ]
  },
  {
   "cell_type": "code",
   "execution_count": null,
   "id": "951ad655-3533-4880-9aa4-c426b27c84b4",
   "metadata": {},
   "outputs": [],
   "source": []
  }
 ],
 "metadata": {
  "kernelspec": {
   "display_name": "Python 3 (ipykernel)",
   "language": "python",
   "name": "python3"
  },
  "language_info": {
   "codemirror_mode": {
    "name": "ipython",
    "version": 3
   },
   "file_extension": ".py",
   "mimetype": "text/x-python",
   "name": "python",
   "nbconvert_exporter": "python",
   "pygments_lexer": "ipython3",
   "version": "3.11.3"
  }
 },
 "nbformat": 4,
 "nbformat_minor": 5
}
