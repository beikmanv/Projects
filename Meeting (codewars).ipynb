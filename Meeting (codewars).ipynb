{
 "cells": [
  {
   "cell_type": "markdown",
   "id": "941f326c-48a9-4441-aee9-80acef54d73b",
   "metadata": {},
   "source": [
    "# Task:\n",
    "\n",
    "John has invited some friends. His list is:\n",
    "\n",
    "s = \"Fred:Corwill;Wilfred:Corwill;Barney:Tornbull;Betty:Tornbull;Bjon:Tornbull;Raphael:Corwill;Alfred:Corwill\";\n",
    "\n",
    "Could you make a program that\n",
    "\n",
    "1. Makes this string uppercase\n",
    "2. Gives it sorted in alphabetical order by last name.\n",
    "3. When the last names are the same, sort them by first name. Last name and first name of a guest come in the result between parentheses separated by a comma.\n",
    "\n",
    "So the result of function meeting(s) will be:\n",
    "\n",
    "\"(CORWILL, ALFRED)(CORWILL, FRED)(CORWILL, RAPHAEL)(CORWILL, WILFRED)(TORNBULL, BARNEY)(TORNBULL, BETTY)(TORNBULL, BJON)\"\n",
    "\n",
    "It can happen that in two distinct families with the same family name two people have the same first name too.\n",
    "\n",
    "# Solution:\n"
   ]
  },
  {
   "cell_type": "code",
   "execution_count": 1,
   "id": "d7ba5393-3fa9-441c-a92c-4b98ed6cd95c",
   "metadata": {
    "tags": []
   },
   "outputs": [
    {
     "name": "stdout",
     "output_type": "stream",
     "text": [
      "(CORWILL, ALFRED)(CORWILL, FRED)(CORWILL, RAPHAEL)(CORWILL, WILFRED)(TORNBULL, BARNEY)(TORNBULL, BETTY)(TORNBULL, BJON)\n"
     ]
    }
   ],
   "source": [
    "def meeting(s):\n",
    "    # Split the input string into individual guest entries\n",
    "    guests = s.split(';')\n",
    "    \n",
    "    # Create a list of tuples (last_name, first_name)\n",
    "    guest_list = []\n",
    "    for guest in guests:\n",
    "        parts = guest.split(':')\n",
    "        last_name = parts[1]\n",
    "        first_name = parts[0]\n",
    "        guest_list.append((last_name.upper(), first_name.upper()))\n",
    "    \n",
    "    # Sort the list of tuples by last name and then by first name\n",
    "    sorted_guests = sorted(guest_list, key=lambda x: (x[0], x[1]))\n",
    "    \n",
    "    # Format the sorted list as a string\n",
    "    result = \"\"\n",
    "    for guest in sorted_guests:\n",
    "        result += f\"({guest[0]}, {guest[1]})\"\n",
    "    \n",
    "    return result\n",
    "\n",
    "# Example usage:\n",
    "s = \"Fred:Corwill;Wilfred:Corwill;Barney:Tornbull;Betty:Tornbull;Bjon:Tornbull;Raphael:Corwill;Alfred:Corwill\"\n",
    "print(meeting(s))\n"
   ]
  },
  {
   "cell_type": "markdown",
   "id": "a815a482-df02-4168-a6c6-3543f9e73bf0",
   "metadata": {},
   "source": [
    "# Alternative Solution:"
   ]
  },
  {
   "cell_type": "code",
   "execution_count": null,
   "id": "13f6928d-d44e-47ba-bbb0-4ed481e4333c",
   "metadata": {},
   "outputs": [],
   "source": [
    "def meeting(s):\n",
    "    return ''.join(sorted('({1}, {0})'.format(*(x.split(':'))) for x in s.upper().split(';')))"
   ]
  }
 ],
 "metadata": {
  "kernelspec": {
   "display_name": "Python 3 (ipykernel)",
   "language": "python",
   "name": "python3"
  },
  "language_info": {
   "codemirror_mode": {
    "name": "ipython",
    "version": 3
   },
   "file_extension": ".py",
   "mimetype": "text/x-python",
   "name": "python",
   "nbconvert_exporter": "python",
   "pygments_lexer": "ipython3",
   "version": "3.11.3"
  }
 },
 "nbformat": 4,
 "nbformat_minor": 5
}
