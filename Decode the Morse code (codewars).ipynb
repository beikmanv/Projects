{
 "cells": [
  {
   "cell_type": "markdown",
   "id": "9b2cf477-7fd3-4f09-bb02-5e38d6c4715b",
   "metadata": {},
   "source": [
    "# Task:"
   ]
  },
  {
   "cell_type": "markdown",
   "id": "8f33257f-ceb1-45a1-a64d-9fd5ecc4ae0d",
   "metadata": {},
   "source": [
    "In this kata you have to write a simple Morse code decoder. While the Morse code is now mostly superseded by voice and digital data communication channels, it still has its use in some applications around the world.\n",
    "The Morse code encodes every character as a sequence of \"dots\" and \"dashes\". For example, the letter A is coded as ·−, letter Q is coded as −−·−, and digit 1 is coded as ·−−−−. The Morse code is case-insensitive, traditionally capital letters are used. When the message is written in Morse code, a single space is used to separate the character codes and 3 spaces are used to separate words. For example, the message HEY JUDE in Morse code is ···· · −·−−   ·−−− ··− −·· ·.\n",
    "\n",
    "NOTE: Extra spaces before or after the code have no meaning and should be ignored.\n",
    "\n",
    "In addition to letters, digits and some punctuation, there are some special service codes, the most notorious of those is the international distress signal SOS (that was first issued by Titanic), that is coded as ···−−−···. These special codes are treated as single special characters, and usually are transmitted as separate words.\n",
    "\n",
    "Your task is to implement a function that would take the morse code as input and return a decoded human-readable string.\n",
    "\n",
    "For example:\n",
    "\n",
    "decode_morse('.... . -.--   .--- ..- -.. .')\n",
    "#should return \"HEY JUDE\"\n",
    "NOTE: For coding purposes you have to use ASCII characters . and -, not Unicode characters.\n",
    "\n",
    "Good luck!"
   ]
  },
  {
   "cell_type": "markdown",
   "id": "86c05cd1-fec3-4656-9d13-16c1bfd471a9",
   "metadata": {},
   "source": [
    "# Solution:"
   ]
  },
  {
   "cell_type": "code",
   "execution_count": 1,
   "id": "7f4288ba-ee96-4c80-9437-6078bbb6f958",
   "metadata": {
    "tags": []
   },
   "outputs": [],
   "source": [
    "def decodeMorse(morseCode):\n",
    "    # Split the input Morse code into words using three spaces as the delimiter\n",
    "    morse_words = morseCode.strip().split('   ')\n",
    "\n",
    "    # Use a nested list comprehension to decode each word and character\n",
    "    decoded_message = [''.join(MORSE_CODE[letter] for letter in word.split(' ')) for word in morse_words]\n",
    "\n",
    "    # Join the decoded words with single spaces to form the final message\n",
    "    return ' '.join(decoded_message)\n"
   ]
  },
  {
   "cell_type": "markdown",
   "id": "4ab92183-0949-4e3f-aa3a-31728b9def55",
   "metadata": {},
   "source": [
    "# Notes:"
   ]
  },
  {
   "cell_type": "markdown",
   "id": "0897f85a-bd39-421c-a03a-e38407017a80",
   "metadata": {},
   "source": [
    "<font color=\"grey\">\n",
    "morseCode.strip(): This part removes leading and trailing spaces from the input Morse code string to ensure that there are no extra spaces.<br></br>\n",
    "split(' '): The input Morse code is split into individual words using three spaces as the delimiter. This is because three spaces are used to separate words in Morse code.<br></br>\n",
    "    \n",
    "decoded_message = [''.join(MORSE_CODE[letter] for letter in word.split(' ')) for word in morse_words]:\n",
    "This line uses a list comprehension to process each Morse code word within morse_words.\n",
    "for word in morse_words: It iterates over each word in the list of Morse code words.\n",
    "    \n",
    "word.split(' '): Each Morse code word is split into individual Morse code characters using a single space as the delimiter.\n",
    "    \n",
    "MORSE_CODE[letter] for letter in word.split(' '): For each Morse code character in the word, it looks up the corresponding ASCII character in the MORSE_CODE dictionary.\n",
    "    \n",
    "''.join(...): It joins the decoded ASCII characters together to form the decoded word. For example, if the Morse code word is '- .... . ...', it would be decoded to 'THES'.\n",
    "    \n",
    "return ' '.join(decoded_message):\n",
    "After decoding all the Morse code words, this line joins them together into a single string with single spaces between the words. This forms the final human-readable message.\n",
    "In summary, the decodeMorse function takes an input Morse code string, splits it into individual words, decodes each word into ASCII characters using the provided MORSE_CODE dictionary, and then joins the decoded words into a readable message with spaces between the words.</font>"
   ]
  },
  {
   "cell_type": "code",
   "execution_count": null,
   "id": "96e938ee-be65-4b2d-92c4-115be8737cc8",
   "metadata": {},
   "outputs": [],
   "source": []
  }
 ],
 "metadata": {
  "kernelspec": {
   "display_name": "Python 3 (ipykernel)",
   "language": "python",
   "name": "python3"
  },
  "language_info": {
   "codemirror_mode": {
    "name": "ipython",
    "version": 3
   },
   "file_extension": ".py",
   "mimetype": "text/x-python",
   "name": "python",
   "nbconvert_exporter": "python",
   "pygments_lexer": "ipython3",
   "version": "3.11.3"
  }
 },
 "nbformat": 4,
 "nbformat_minor": 5
}
