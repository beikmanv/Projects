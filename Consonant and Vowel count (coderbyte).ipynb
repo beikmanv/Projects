{
 "cells": [
  {
   "cell_type": "markdown",
   "id": "38acbe53-031a-42e3-b69a-4ebdfd7509ad",
   "metadata": {},
   "source": [
    "# Task:\n",
    "\n",
    "Write a program that takes a user inputted sentence and outputs a count of both Vowels and Consonants in python. \n",
    "\n",
    "# Solution:"
   ]
  },
  {
   "cell_type": "code",
   "execution_count": 3,
   "id": "f273b26d-4d8c-4ac3-8992-728c5c2bc8b5",
   "metadata": {
    "tags": []
   },
   "outputs": [
    {
     "data": {
      "text/plain": [
       "(2, 4)"
      ]
     },
     "execution_count": 3,
     "metadata": {},
     "output_type": "execute_result"
    }
   ],
   "source": [
    "def classify_letter(string: str):\n",
    "    vowels = 0\n",
    "    consonants = 0\n",
    "    for i in string:\n",
    "        if i.casefold() in 'aeiou':\n",
    "            vowels += 1\n",
    "        elif i.casefold() in 'qwrtypsdfghjklzxcvbnm':\n",
    "            consonants += 1\n",
    "    return vowels, consonants\n",
    "\n",
    "classify_letter('shut up')"
   ]
  },
  {
   "cell_type": "code",
   "execution_count": null,
   "id": "bd1de924-d869-48fa-9f8b-b7f433ebb6d9",
   "metadata": {},
   "outputs": [],
   "source": []
  }
 ],
 "metadata": {
  "kernelspec": {
   "display_name": "Python 3 (ipykernel)",
   "language": "python",
   "name": "python3"
  },
  "language_info": {
   "codemirror_mode": {
    "name": "ipython",
    "version": 3
   },
   "file_extension": ".py",
   "mimetype": "text/x-python",
   "name": "python",
   "nbconvert_exporter": "python",
   "pygments_lexer": "ipython3",
   "version": "3.11.3"
  }
 },
 "nbformat": 4,
 "nbformat_minor": 5
}
