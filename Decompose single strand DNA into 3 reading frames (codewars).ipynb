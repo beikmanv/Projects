{
 "cells": [
  {
   "cell_type": "markdown",
   "id": "6a907fc5-06d0-4e4a-8a2b-378bbe966ce2",
   "metadata": {},
   "source": [
    "# Task:\n",
    "\n",
    "In genetics a reading frame is a way to divide a sequence of nucleotides (DNA bases) into a set of consecutive non-overlapping triplets (also called codon). Each of this triplets is translated into an amino-acid during a translation process to create proteins.\n",
    "\n",
    "__Input__\n",
    "\n",
    "In a single strand of DNA you find 3 Reading frames, take for example the following input sequence:\n",
    "\n",
    "AGGTGACACCGCAAGCCTTATATTAGC\n",
    "\n",
    "__Output__\n",
    "\n",
    "For the output we are going to take the combinations and show them in the following manner:\n",
    "\n",
    "Frame 1: AGG TGA CAC CGC AAG CCT TAT ATT AGC\n",
    "Frame 2: A GGT GAC ACC GCA AGC CTT ATA TTA GC\n",
    "Frame 3: AG GTG ACA CCG CAA GCC TTA TAT TAG C\n",
    "For frame 1 split all of them in groups of three starting by the first base (letter).\n",
    "\n",
    "For frame 2 split all of them in groups of three starting by the second base (letter) but having the first base (letter) at the beggining.\n",
    "\n",
    "For frame 3 split all of them in groups of three starting by the third letter, but having the first and second bases (letters) at the beginning in the same order."
   ]
  },
  {
   "cell_type": "markdown",
   "id": "7d88dc44-a267-40ea-a3d8-f3e89db31c6c",
   "metadata": {},
   "source": [
    "# Solution:"
   ]
  },
  {
   "cell_type": "code",
   "execution_count": null,
   "id": "8a831378-8699-489f-b10c-71dfa47d9ca2",
   "metadata": {},
   "outputs": [],
   "source": [
    "def decompose_single_strand(dna):\n",
    "    return '\\n'.join('Frame {}: {}'.format(k+1, frame(dna, k)) for k in range(3))\n",
    "\n",
    "def frame(s, k):\n",
    "    return ' '.join(([s[:k]] if k else []) + [s[i:i+3] for i in range(k, len(s), 3)])\n"
   ]
  }
 ],
 "metadata": {
  "kernelspec": {
   "display_name": "Python 3 (ipykernel)",
   "language": "python",
   "name": "python3"
  },
  "language_info": {
   "codemirror_mode": {
    "name": "ipython",
    "version": 3
   },
   "file_extension": ".py",
   "mimetype": "text/x-python",
   "name": "python",
   "nbconvert_exporter": "python",
   "pygments_lexer": "ipython3",
   "version": "3.11.3"
  }
 },
 "nbformat": 4,
 "nbformat_minor": 5
}
