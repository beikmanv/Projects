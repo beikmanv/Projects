{
 "cells": [
  {
   "cell_type": "markdown",
   "id": "a9398ff1-ab79-4e73-b407-2550325a6ed6",
   "metadata": {
    "tags": []
   },
   "source": [
    "# Task:\n",
    "\n",
    "You are given a (small) check book as a - sometimes - cluttered (by non-alphanumeric characters) string:\n",
    "\n",
    "\"1000.00\n",
    "125 Market 125.45\n",
    "126 Hardware 34.95\n",
    "127 Video 7.45\n",
    "128 Book 14.32\n",
    "129 Gasoline 16.10\"\n",
    "The first line shows the original balance. Each other line (when not blank) gives information: check number, category, check amount. (Input form may change depending on the language).\n",
    "\n",
    "First you have to clean the lines keeping only letters, digits, dots and spaces.\n",
    "\n",
    "Then return a report as a string (underscores show spaces -- don't put them in your solution. They are there so you can see them and how many of them you need to have):\n",
    "\n",
    "\"Original_Balance:_1000.00\n",
    "125_Market_125.45_Balance_874.55\n",
    "126_Hardware_34.95_Balance_839.60\n",
    "127_Video_7.45_Balance_832.15\n",
    "128_Book_14.32_Balance_817.83\n",
    "129_Gasoline_16.10_Balance_801.73\n",
    "Total_expense__198.27\n",
    "Average_expense__39.65\"\n",
    "On each line of the report you have to add the new balance and then in the last two lines the total expense and the average expense. So as not to have a too long result string we don't ask for a properly formatted result.\n",
    "\n",
    "Notes\n",
    "\n",
    "See input examples in Sample Tests.\n",
    "It may happen that one (or more) line(s) is (are) blank.\n",
    "Round to 2 decimals your calculated results (Elm: without traling 0)\n",
    "The line separator of results may depend on the language \\n or \\r\\n. See examples in the \"Sample tests\".\n",
    "R language: Don't use R's base function \"mean()\" that could give results slightly different from expected ones."
   ]
  },
  {
   "cell_type": "markdown",
   "id": "9eda827a-d16d-4491-9b4b-6bd96f5419aa",
   "metadata": {},
   "source": [
    "# Solution:"
   ]
  },
  {
   "cell_type": "code",
   "execution_count": 2,
   "id": "588d1ff2-3a4f-4c38-8d4b-343b163d1d59",
   "metadata": {
    "tags": []
   },
   "outputs": [],
   "source": [
    "# Define the balance function that processes a financial record book\n",
    "def balance(book):\n",
    "    # Define a string containing special characters to remove\n",
    "    chars = \"!=:;-_+^/(){}?*'%&@,;$#€\"\n",
    "\n",
    "    # Remove special characters from the input book\n",
    "    for c in chars:\n",
    "        if c in book:\n",
    "            book = book.replace(c, \"\")\n",
    "\n",
    "    # Split the cleaned book into lines\n",
    "    lines = book.split(\"\\n\")\n",
    "\n",
    "    # Initialize variables for balance, total expenses, expense count, and report lines\n",
    "    balance, total, expense, last = None, 0, 0, []\n",
    "\n",
    "    # Iterate through the lines of the book\n",
    "    for e, i in enumerate(lines):\n",
    "        # Skip processing empty lines\n",
    "        if len(i) == 0:\n",
    "            continue\n",
    "\n",
    "        # If it's the first line (index 0), interpret it as the initial balance\n",
    "        elif e == 0:\n",
    "            balance = float(i)\n",
    "            last.append(\"Original Balance: {:.2f}\".format(balance))\n",
    "\n",
    "        # For other lines (transactions)\n",
    "        else:\n",
    "            # Split the line into parts using space as the separator\n",
    "            data = i.split(\" \")\n",
    "\n",
    "            # Extract the check amount as a float\n",
    "            amount = float(data[2])\n",
    "\n",
    "            # Update the total expenses\n",
    "            total += amount\n",
    "\n",
    "            # Create a formatted line for the report\n",
    "            report_line = \"{} {} {:.2f} Balance {:.2f}\".format(data[0], data[1], float(data[2]), round(balance - amount, 2))\n",
    "\n",
    "            # Append the report line to the last list\n",
    "            last.append(report_line)\n",
    "\n",
    "            # Update the balance by subtracting the check amount\n",
    "            balance -= amount\n",
    "\n",
    "            # Increment the expense count\n",
    "            expense += 1\n",
    "\n",
    "    # Calculate the average expense, rounding it to two decimal places\n",
    "    average = round(total / expense, 2)\n",
    "\n",
    "    # Append two lines indicating the total expense and average expense to the last list\n",
    "    last.append(\"Total expense  {:.2f}\".format(round(total, 2)))\n",
    "    last.append(\"Average expense  {:.2f}\".format(average))\n",
    "\n",
    "    # Return the report as a single string, joining report lines with \"\\r\\n\" as the line separator\n",
    "    return \"\\r\\n\".join(last)\n",
    "\n"
   ]
  }
 ],
 "metadata": {
  "kernelspec": {
   "display_name": "Python 3 (ipykernel)",
   "language": "python",
   "name": "python3"
  },
  "language_info": {
   "codemirror_mode": {
    "name": "ipython",
    "version": 3
   },
   "file_extension": ".py",
   "mimetype": "text/x-python",
   "name": "python",
   "nbconvert_exporter": "python",
   "pygments_lexer": "ipython3",
   "version": "3.11.3"
  }
 },
 "nbformat": 4,
 "nbformat_minor": 5
}
