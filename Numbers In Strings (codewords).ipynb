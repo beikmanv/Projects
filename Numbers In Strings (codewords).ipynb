{
 "cells": [
  {
   "cell_type": "markdown",
   "id": "aa2f79ac-8516-42a5-8f4b-7a4d396ae275",
   "metadata": {
    "tags": []
   },
   "source": [
    "# Task:\n",
    "\n",
    "In this Kata, you will be given a string that has lowercase letters and numbers. Your task is to compare the number groupings and return the largest number. Numbers will not have leading zeros.\n",
    "\n",
    "For example, solve(\"gh12cdy695m1\") = 695, because this is the largest of all number groupings.\n",
    "\n",
    "Good luck!\n",
    "\n"
   ]
  },
  {
   "cell_type": "markdown",
   "id": "035931b9-83c2-4795-90d4-13749ac1c694",
   "metadata": {},
   "source": [
    "# Solution:"
   ]
  },
  {
   "cell_type": "code",
   "execution_count": 5,
   "id": "62e0e615-6f76-4cd9-b0d8-387b010b4b21",
   "metadata": {
    "tags": []
   },
   "outputs": [],
   "source": [
    "import re\n",
    "\n",
    "def solve(input_str):\n",
    "    # Use regular expression to find all number groupings\n",
    "    numbers = re.findall(r'\\d+', input_str)\n",
    "    \n",
    "    if not numbers:\n",
    "        return None  # No numbers found in the input string\n",
    "    \n",
    "    # Convert the list of number strings to integers and find the maximum\n",
    "    max_number = max(map(int, numbers))\n",
    "    \n",
    "    return max_number"
   ]
  },
  {
   "cell_type": "markdown",
   "id": "0f81b7e4-15af-4c61-9668-5ac2a49553dc",
   "metadata": {},
   "source": [
    "This code uses the **re.findall()** function to extract all number groupings from the input string, converts them to integers using **map()**, and then finds the maximum using the **max()** function."
   ]
  },
  {
   "cell_type": "markdown",
   "id": "65d13652-f9c0-47d1-ba25-c34d01083286",
   "metadata": {},
   "source": [
    "# Notes:\n",
    "\n",
    "<font color=\"grey\">\n",
    "In the code I provided, the regular expression r'\\d+' is used to match and extract sequences of one or more digits from the input string. Here's a breakdown of what each part of the regular expression means:\n",
    "    \n",
    "    \n",
    "r: This is a prefix that signifies a raw string in Python. It's often used with regular expressions to ensure that backslashes \\ are treated as literal characters and not escape characters. Using r'...' is a common practice when working with regular expressions in Python.\n",
    "\\d: This is a metacharacter in regular expressions that matches any digit from 0 to 9. It's equivalent to specifying [0-9].\n",
    "+: This is a quantifier in regular expressions that specifies that the preceding character or group (in this case, \\d) should be matched one or more times. So, \\d+ matches one or more consecutive digits.\n",
    "    \n",
    "Putting it all together, r'\\d+' will match and extract any sequence of one or more consecutive digits from the input string. For example, in the string \"gh12cdy695m1,\" it will match the following substrings as separate matches: \"12,\" \"695,\" and \"1.\"\n",
    "\n",
    "By using re.findall(), you collect all these matched substrings into a list, and then you can process them further as needed.\n",
    "<font color=\"grey\"></font>"
   ]
  },
  {
   "cell_type": "markdown",
   "id": "d0bf2c70-440b-40de-99cf-bc47706974b6",
   "metadata": {
    "tags": []
   },
   "source": [
    "<font color=\"grey\">\n",
    "The map() function is used in the code to convert a list of number strings (extracted from the input string using regular expressions) into a list of integers. Here's why we use map() in this context:\n",
    "    \n",
    "Extraction of Number Strings: When you use re.findall() to extract number groupings from the input string, it returns a list of strings, where each string represents a sequence of digits. For example, if your input string is \"gh12cdy695m1,\" re.findall() would return the list ['12', '695', '1'].\n",
    "    \n",
    "Conversion to Integers: To find the largest number among these extracted strings, you need to compare them as integers, not as strings. The map() function is used to apply the int() function to each element in the list of number strings, effectively converting each string to an integer. So, map(int, ['12', '695', '1']) would produce [12, 695, 1].\n",
    "    \n",
    "Finding the Maximum: Once you have a list of integers, you can easily find the largest number using the max() function. In the example above, max([12, 695, 1]) would return 695, which is the largest integer in the list.\n",
    "    \n",
    "Using map() simplifies the process of converting the list of extracted number strings into a list of integers, making it easier to find the maximum value among them.\n",
    "<font color=\"grey\"></font>"
   ]
  }
 ],
 "metadata": {
  "kernelspec": {
   "display_name": "Python 3 (ipykernel)",
   "language": "python",
   "name": "python3"
  },
  "language_info": {
   "codemirror_mode": {
    "name": "ipython",
    "version": 3
   },
   "file_extension": ".py",
   "mimetype": "text/x-python",
   "name": "python",
   "nbconvert_exporter": "python",
   "pygments_lexer": "ipython3",
   "version": "3.11.3"
  }
 },
 "nbformat": 4,
 "nbformat_minor": 5
}
