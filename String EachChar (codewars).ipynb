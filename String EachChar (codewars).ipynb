{
 "cells": [
  {
   "cell_type": "markdown",
   "id": "810e9a86-3c7d-4350-b570-ebfb2250d399",
   "metadata": {
    "tags": []
   },
   "source": [
    "# Task:\n",
    "\n",
    "Your team is really excited with all the contributions you've made to the RuplesJS library. They feel the work you're doing will truly help Ruby developers transition to Javascript! They've assigned you another task.\n",
    "\n",
    "String.eachChar()\n",
    "\n",
    "In ruby you can add something after each character in a string like so:\n",
    "\n",
    "__\"hello\".each_char {|c| print c, ' ' } -> \"h e l l o \"__\n",
    "In the spirit of polymorphism, our eachChar method will allow one of two arguments, a callback function or a string. If a string is presented, it will be added after each character of the original string and return the new string. If a function is presented, it will perform a manipulation of each character in the string.\n",
    "\n",
    "Example:"
   ]
  },
  {
   "cell_type": "code",
   "execution_count": null,
   "id": "58000bb9-b6e4-46e8-a80b-02a396935d13",
   "metadata": {},
   "outputs": [],
   "source": [
    "each_char(\"hello\",\" \")\n",
    "-> \"h e l l o \"\n",
    "\n",
    "def func(c):\n",
    "    return 'L' if c=='l' else c\n",
    "    \n",
    "each_char(\"hello all\", func)\n",
    "-> \"heLLo aLL\""
   ]
  },
  {
   "cell_type": "markdown",
   "id": "1ee5b82e-9219-4d25-a87f-e1021c10bfb7",
   "metadata": {},
   "source": [
    "# Solution:"
   ]
  },
  {
   "cell_type": "code",
   "execution_count": null,
   "id": "9c59a1f2-dee8-4912-8ebf-b533ad6e311f",
   "metadata": {},
   "outputs": [],
   "source": [
    "def each_char(s, a):\n",
    "    return ''.join(a(x) if callable(a) else x+a for x in s)"
   ]
  }
 ],
 "metadata": {
  "kernelspec": {
   "display_name": "Python 3 (ipykernel)",
   "language": "python",
   "name": "python3"
  },
  "language_info": {
   "codemirror_mode": {
    "name": "ipython",
    "version": 3
   },
   "file_extension": ".py",
   "mimetype": "text/x-python",
   "name": "python",
   "nbconvert_exporter": "python",
   "pygments_lexer": "ipython3",
   "version": "3.11.3"
  }
 },
 "nbformat": 4,
 "nbformat_minor": 5
}
